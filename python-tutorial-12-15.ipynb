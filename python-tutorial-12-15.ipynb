{
 "cells": [
  {
   "cell_type": "code",
   "execution_count": 1,
   "metadata": {},
   "outputs": [
    {
     "name": "stdout",
     "output_type": "stream",
     "text": [
      "Boogie is a genre of music and dance that originated in the United States in the early 20th century. \n",
      "It is characterized by its upbeat and lively tempo, often featuring a syncopated rhythm. \n",
      "Boogie music typically incorporates elements of jazz, blues, and swing, and it became especially popular during the swing era of the 1930s and 1940s. \n",
      "Boogie dancing involves fast footwork, spins, and energetic movements, often performed to boogie-woogie or rock and roll music. \n",
      "It continues to be enjoyed today as both a historical dance style and a vibrant form of entertainment.\n"
     ]
    }
   ],
   "source": [
    "with open('boogie.txt') as f:\n",
    "    contents = f.read()\n",
    "    print(contents)"
   ]
  },
  {
   "cell_type": "code",
   "execution_count": 2,
   "metadata": {},
   "outputs": [],
   "source": [
    "more_lines = ['', 'boring append text files', 'The End']\n",
    "with open('boogie.txt', 'a') as f:\n",
    "    f.write('\\n'.join(more_lines))"
   ]
  },
  {
   "cell_type": "code",
   "execution_count": 3,
   "metadata": {},
   "outputs": [
    {
     "name": "stdout",
     "output_type": "stream",
     "text": [
      "True\n"
     ]
    }
   ],
   "source": [
    "import os.path\n",
    "file_exists = os.path.exists('boogie.txt')\n",
    "print(file_exists)"
   ]
  },
  {
   "cell_type": "code",
   "execution_count": 4,
   "metadata": {},
   "outputs": [
    {
     "name": "stdout",
     "output_type": "stream",
     "text": [
      "['Name', 'Age', 'Location', 'Occupation', 'Salary']\n",
      "['John', '30', 'New York', 'Engineer', '75000']\n",
      "['Sarah', '28', 'Los Angeles', 'Teacher', '55000']\n",
      "['Michael', '35', 'Chicago', 'Doctor', '100000']\n",
      "['Emily', '25', 'San Francisco', 'Designer', '60000']\n"
     ]
    }
   ],
   "source": [
    "import csv\n",
    "with open('example.csv', 'r') as f:\n",
    "    csv_reader = csv.reader(f)\n",
    "    for line in csv_reader:\n",
    "        # process each line\n",
    "        print(line)"
   ]
  },
  {
   "cell_type": "code",
   "execution_count": 5,
   "metadata": {},
   "outputs": [],
   "source": [
    "#Section 13 done in learn-python notebook series"
   ]
  },
  {
   "cell_type": "code",
   "execution_count": 7,
   "metadata": {},
   "outputs": [
    {
     "name": "stdout",
     "output_type": "stream",
     "text": [
      "Requirement already satisfied: requests in /home/capeie/anaconda3/envs/ece5831-2023/lib/python3.8/site-packages (2.31.0)\n",
      "Requirement already satisfied: charset-normalizer<4,>=2 in /home/capeie/anaconda3/envs/ece5831-2023/lib/python3.8/site-packages (from requests) (3.2.0)\n",
      "Requirement already satisfied: idna<4,>=2.5 in /home/capeie/anaconda3/envs/ece5831-2023/lib/python3.8/site-packages (from requests) (3.4)\n",
      "Requirement already satisfied: urllib3<3,>=1.21.1 in /home/capeie/anaconda3/envs/ece5831-2023/lib/python3.8/site-packages (from requests) (2.0.5)\n",
      "Requirement already satisfied: certifi>=2017.4.17 in /home/capeie/anaconda3/envs/ece5831-2023/lib/python3.8/site-packages (from requests) (2023.7.22)\n",
      "Note: you may need to restart the kernel to use updated packages.\n",
      "\n",
      "Usage:   \n",
      "  /home/capeie/anaconda3/envs/ece5831-2023/bin/python -m pip <command> [options]\n",
      "\n",
      "ambiguous option: --v (--verbose, --version?)\n",
      "Note: you may need to restart the kernel to use updated packages.\n"
     ]
    }
   ],
   "source": [
    "%pip install requests\n",
    "%pip --v"
   ]
  },
  {
   "cell_type": "code",
   "execution_count": 8,
   "metadata": {},
   "outputs": [
    {
     "name": "stdout",
     "output_type": "stream",
     "text": [
      "Package              Version\n",
      "-------------------- ------------\n",
      "anyio                3.5.0\n",
      "argon2-cffi          21.3.0\n",
      "argon2-cffi-bindings 21.2.0\n",
      "asttokens            2.0.5\n",
      "attrs                22.1.0\n",
      "backcall             0.2.0\n",
      "beautifulsoup4       4.12.2\n",
      "bleach               4.1.0\n",
      "certifi              2023.7.22\n",
      "cffi                 1.15.1\n",
      "charset-normalizer   3.2.0\n",
      "comm                 0.1.2\n",
      "debugpy              1.6.7\n",
      "decorator            5.1.1\n",
      "defusedxml           0.7.1\n",
      "entrypoints          0.4\n",
      "executing            0.8.3\n",
      "fastjsonschema       2.16.2\n",
      "idna                 3.4\n",
      "importlib-resources  5.2.0\n",
      "ipykernel            6.25.0\n",
      "ipython              8.12.0\n",
      "ipython-genutils     0.2.0\n",
      "jedi                 0.18.1\n",
      "Jinja2               3.1.2\n",
      "jsonschema           4.17.3\n",
      "jupyter_client       7.4.9\n",
      "jupyter_core         5.3.0\n",
      "jupyter-server       1.23.4\n",
      "jupyterlab-pygments  0.1.2\n",
      "lxml                 4.9.2\n",
      "MarkupSafe           2.1.1\n",
      "matplotlib-inline    0.1.6\n",
      "mistune              0.8.4\n",
      "nbclassic            0.5.5\n",
      "nbclient             0.5.13\n",
      "nbconvert            6.5.4\n",
      "nbformat             5.7.0\n",
      "nest-asyncio         1.5.6\n",
      "notebook             6.5.4\n",
      "notebook_shim        0.2.2\n",
      "numpy                1.24.4\n",
      "packaging            23.1\n",
      "pandas               2.0.3\n",
      "pandocfilters        1.5.0\n",
      "parso                0.8.3\n",
      "pexpect              4.8.0\n",
      "pickleshare          0.7.5\n",
      "pip                  23.2.1\n",
      "pkgutil_resolve_name 1.3.10\n",
      "platformdirs         3.10.0\n",
      "prometheus-client    0.14.1\n",
      "prompt-toolkit       3.0.36\n",
      "psutil               5.9.0\n",
      "ptyprocess           0.7.0\n",
      "pure-eval            0.2.2\n",
      "pycparser            2.21\n",
      "Pygments             2.15.1\n",
      "pyrsistent           0.18.0\n",
      "python-dateutil      2.8.2\n",
      "pytz                 2023.3.post1\n",
      "pyzmq                23.2.0\n",
      "requests             2.31.0\n",
      "Send2Trash           1.8.0\n",
      "setuptools           68.0.0\n",
      "six                  1.16.0\n",
      "sniffio              1.2.0\n",
      "soupsieve            2.4\n",
      "stack-data           0.2.0\n",
      "terminado            0.17.1\n",
      "tinycss2             1.2.1\n",
      "tornado              6.3.2\n",
      "traitlets            5.7.1\n",
      "typing_extensions    4.7.1\n",
      "tzdata               2023.3\n",
      "urllib3              2.0.5\n",
      "wcwidth              0.2.5\n",
      "webencodings         0.5.1\n",
      "websocket-client     0.58.0\n",
      "wheel                0.38.4\n",
      "zipp                 3.11.0\n",
      "Note: you may need to restart the kernel to use updated packages.\n",
      "Name: numpy\n",
      "Version: 1.24.4\n",
      "Summary: Fundamental package for array computing in Python\n",
      "Home-page: https://www.numpy.org\n",
      "Author: Travis E. Oliphant et al.\n",
      "Author-email: \n",
      "License: BSD-3-Clause\n",
      "Location: /home/capeie/anaconda3/envs/ece5831-2023/lib/python3.8/site-packages\n",
      "Requires: \n",
      "Required-by: pandas\n",
      "Note: you may need to restart the kernel to use updated packages.\n"
     ]
    }
   ],
   "source": [
    "%pip list\n",
    "%pip show numpy"
   ]
  },
  {
   "cell_type": "code",
   "execution_count": 12,
   "metadata": {},
   "outputs": [
    {
     "name": "stdout",
     "output_type": "stream",
     "text": [
      "20\n",
      "8.000000e-03\n",
      " 00800\n",
      " 2.67\n",
      " 420,000,000,000\n"
     ]
    }
   ],
   "source": [
    "#Strings - Section 15\n",
    "number = 32\n",
    "#Hexadecimal \n",
    "s = f'{number:x}'\n",
    "print(s)\n",
    "\n",
    "#Scientific notation\n",
    "number = 0.008\n",
    "s = f'{number:e}'\n",
    "print(s)\n",
    "\n",
    "#Express number of digits in output\n",
    "number = 800\n",
    "s = f'{number: 06}'\n",
    "print(s)  # 00200\n",
    "\n",
    "#Specify number of decimal places\n",
    "number = 2.6712312\n",
    "s = f'{number: .2f}'\n",
    "print(s)  # 9.99\n",
    "\n",
    "#Add commas in output\n",
    "number = 420000000000\n",
    "s = f'{number: ,}'  \n",
    "print(s)  "
   ]
  },
  {
   "cell_type": "code",
   "execution_count": null,
   "metadata": {},
   "outputs": [],
   "source": []
  }
 ],
 "metadata": {
  "kernelspec": {
   "display_name": "ece5831-2023",
   "language": "python",
   "name": "python3"
  },
  "language_info": {
   "codemirror_mode": {
    "name": "ipython",
    "version": 3
   },
   "file_extension": ".py",
   "mimetype": "text/x-python",
   "name": "python",
   "nbconvert_exporter": "python",
   "pygments_lexer": "ipython3",
   "version": "3.8.18"
  },
  "orig_nbformat": 4
 },
 "nbformat": 4,
 "nbformat_minor": 2
}
