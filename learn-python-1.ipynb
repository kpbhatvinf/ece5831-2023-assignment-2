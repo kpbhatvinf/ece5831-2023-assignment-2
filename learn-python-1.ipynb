{
 "cells": [
  {
   "cell_type": "code",
   "execution_count": 3,
   "metadata": {},
   "outputs": [
    {
     "name": "stdout",
     "output_type": "stream",
     "text": [
      "Hello world! Krishna Prasad Bhat\n",
      "x is 1\n",
      "End of hello world example\n"
     ]
    }
   ],
   "source": [
    "#Hello World\n",
    "print(\"Hello world! Krishna Prasad Bhat\")\n",
    "#Indentation\n",
    "x=1\n",
    "if x==1:\n",
    "    print(\"x is 1\")\n",
    "#Exercise\n",
    "print(\"End of hello world example\")"
   ]
  },
  {
   "cell_type": "code",
   "execution_count": 7,
   "metadata": {},
   "outputs": [
    {
     "name": "stdout",
     "output_type": "stream",
     "text": [
      "7\n",
      "7.0\n",
      "7.0\n",
      "hello\n",
      "hello\n",
      "3\n",
      "hello world\n",
      "3 4\n",
      "String: Hello Assignment\n",
      "Float: 8.100000\n",
      "Integer: 23\n"
     ]
    }
   ],
   "source": [
    "#Numbers - int,float\n",
    "int_ex = 7\n",
    "print(int_ex)\n",
    "float_ex = 7.0\n",
    "print(float_ex)\n",
    "float_ex = float(7)\n",
    "print(float_ex)\n",
    "\n",
    "#Strings\n",
    "mystring = 'hello'\n",
    "print(mystring)\n",
    "mystring = \"hello\"\n",
    "print(mystring)\n",
    "\n",
    "#Simple operators on numbers and strings\n",
    "one = 1\n",
    "two = 2\n",
    "three = one + two\n",
    "print(three)\n",
    "\n",
    "hello = \"hello\"\n",
    "world = \"world\"\n",
    "helloworld = hello + \" \" + world\n",
    "print(helloworld)\n",
    "\n",
    "#Simultaneous assignment\n",
    "a, b = 3, 4\n",
    "print(a, b)\n",
    "\n",
    "#String substitution \n",
    "mystring = \"Hello Assignment\"\n",
    "myfloat = 8.1\n",
    "myint = 23\n",
    "\n",
    "# testing code\n",
    "if mystring == \"Hello Assignment\":\n",
    "    print(\"String: %s\" % mystring)\n",
    "if isinstance(myfloat, float) and myfloat == 8.1:\n",
    "    print(\"Float: %f\" % myfloat)\n",
    "if isinstance(myint, int) and myint == 23:\n",
    "    print(\"Integer: %d\" % myint)"
   ]
  },
  {
   "cell_type": "code",
   "execution_count": 8,
   "metadata": {},
   "outputs": [
    {
     "name": "stdout",
     "output_type": "stream",
     "text": [
      "1\n",
      "2\n",
      "3\n",
      "1\n",
      "2\n",
      "3\n",
      "1\n"
     ]
    }
   ],
   "source": [
    "#Lists\n",
    "mylist = []\n",
    "mylist.append(1)\n",
    "mylist.append(2)\n",
    "mylist.append(3)\n",
    "print(mylist[0])\n",
    "print(mylist[1])\n",
    "print(mylist[2])\n",
    "for x in mylist:\n",
    "    print(x)\n",
    "\n",
    "#Exercise\n",
    "print(mylist[0])"
   ]
  },
  {
   "cell_type": "code",
   "execution_count": 10,
   "metadata": {},
   "outputs": [
    {
     "name": "stdout",
     "output_type": "stream",
     "text": [
      "2.5\n",
      "2\n",
      "49\n",
      "8\n",
      "hello world\n",
      "hellohellohellohellohello\n",
      "[1, 3, 5, 7, 2, 4, 6, 8]\n",
      "[1, 2, 3, 1, 2, 3, 1, 2, 3]\n"
     ]
    }
   ],
   "source": [
    "#Basic Operators\n",
    "#Arithmetic Operators \n",
    "number = 1 + 2 * 3 / 4.0\n",
    "print(number)\n",
    "remainder = 11 % 3\n",
    "print(remainder)\n",
    "squared = 7 ** 2\n",
    "cubed = 2 ** 3\n",
    "print(squared)\n",
    "print(cubed)\n",
    "\n",
    "#String Operators\n",
    "helloworld = \"hello\" + \" \" + \"world\"\n",
    "print(helloworld)\n",
    "lotsofhellos = \"hello\" * 5\n",
    "print(lotsofhellos)\n",
    "\n",
    "#List Operator\n",
    "even_numbers = [2,4,6,8]\n",
    "odd_numbers = [1,3,5,7]\n",
    "all_numbers = odd_numbers + even_numbers\n",
    "print(all_numbers)\n",
    "print([1,2,3] * 3)"
   ]
  },
  {
   "cell_type": "code",
   "execution_count": 11,
   "metadata": {},
   "outputs": [
    {
     "name": "stdout",
     "output_type": "stream",
     "text": [
      "Hello, Krishna!\n",
      "Krishna is 23 years old.\n"
     ]
    }
   ],
   "source": [
    "#String Formatting\n",
    "name = \"Krishna\"\n",
    "print(\"Hello, %s!\" % name)\n",
    "\n",
    "age = 23\n",
    "print(\"%s is %d years old.\" % (name, age))"
   ]
  },
  {
   "cell_type": "code",
   "execution_count": 12,
   "metadata": {},
   "outputs": [
    {
     "name": "stdout",
     "output_type": "stream",
     "text": [
      "single quotes are ' '\n",
      "12\n",
      "4\n",
      "3\n",
      "lo w\n",
      "l \n",
      "lo w\n",
      "lo w\n",
      "!dlrow olleH\n",
      "HELLO WORLD!\n",
      "hello world!\n",
      "True\n",
      "False\n"
     ]
    }
   ],
   "source": [
    "#Basic String Operations\n",
    "astring = \"Hello world!\"\n",
    "astring2 = 'Hello world!'\n",
    "astring = \"Hello world!\"\n",
    "print(\"single quotes are ' '\")\n",
    "print(len(astring))\n",
    "\n",
    "astring = \"Hello world!\"\n",
    "print(astring.index(\"o\"))\n",
    "\n",
    "astring = \"Hello world!\"\n",
    "print(astring.count(\"l\"))\n",
    "\n",
    "astring = \"Hello world!\"\n",
    "print(astring[3:7])\n",
    "\n",
    "astring = \"Hello world!\"\n",
    "print(astring[3:7:2])\n",
    "\n",
    "astring = \"Hello world!\"\n",
    "print(astring[3:7])\n",
    "print(astring[3:7:1])\n",
    "\n",
    "astring = \"Hello world!\"\n",
    "print(astring[::-1])\n",
    "\n",
    "astring = \"Hello world!\"\n",
    "print(astring.upper())\n",
    "print(astring.lower())\n",
    "\n",
    "astring = \"Hello world!\"\n",
    "print(astring.startswith(\"Hello\"))\n",
    "print(astring.endswith(\"something\"))\n",
    "\n",
    "astring = \"Hello world!\"\n",
    "afewwords = astring.split(\" \")"
   ]
  },
  {
   "cell_type": "code",
   "execution_count": 14,
   "metadata": {},
   "outputs": [
    {
     "name": "stdout",
     "output_type": "stream",
     "text": [
      "True\n",
      "False\n",
      "True\n",
      "Your name is Krishna, and you are also 23 years old.\n",
      "Your name is either Krishna or Rama.\n",
      "Your name is either Krishna or Rama.\n",
      "True\n",
      "False\n",
      "True\n",
      "False\n"
     ]
    }
   ],
   "source": [
    "#Conditions\n",
    "x = 2\n",
    "print(x == 2)\n",
    "print(x == 3) \n",
    "print(x < 3)\n",
    "\n",
    "#Boolean operators for conditions\n",
    "name = \"Krishna\"\n",
    "age = 23\n",
    "if name == \"Krishna\" and age == 23:\n",
    "    print(\"Your name is Krishna, and you are also 23 years old.\")\n",
    "\n",
    "if name == \"Krishna\" or name == \"Rama\":\n",
    "    print(\"Your name is either Krishna or Rama.\")\n",
    "\n",
    "# \"in\" operator\n",
    "name = \"Krishna\"\n",
    "if name in [\"Krishna\", \"Rama\"]:\n",
    "    print(\"Your name is either Krishna or Rama.\")\n",
    "\n",
    "# \"is\" operator\n",
    "x = [1,2,3]\n",
    "y = [1,2,3]\n",
    "print(x == y) \n",
    "print(x is y) \n",
    "\n",
    "# \"not\" operator\n",
    "print(not False)\n",
    "print((not False) == (False))"
   ]
  },
  {
   "cell_type": "code",
   "execution_count": 17,
   "metadata": {},
   "outputs": [
    {
     "name": "stdout",
     "output_type": "stream",
     "text": [
      "2\n",
      "3\n",
      "5\n",
      "7\n",
      "0\n",
      "1\n",
      "2\n",
      "3\n",
      "4\n",
      "3\n",
      "4\n",
      "5\n",
      "3\n",
      "5\n",
      "7\n",
      "While loop\n",
      "\n",
      "0\n",
      "1\n",
      "2\n",
      "3\n",
      "4\n",
      "Break and Continue Statements\n",
      "\n",
      "0\n",
      "1\n",
      "2\n",
      "3\n",
      "4\n",
      "1\n",
      "3\n",
      "5\n",
      "7\n",
      "9\n"
     ]
    }
   ],
   "source": [
    "#Loops\n",
    "\n",
    "#For Loops\n",
    "primes = [2, 3, 5, 7]\n",
    "for prime in primes:\n",
    "    print(prime)\n",
    "for x in range(5):\n",
    "    print(x)\n",
    "for x in range(3, 6):\n",
    "    print(x)\n",
    "for x in range(3, 8, 2):\n",
    "    print(x)\n",
    "\n",
    "#While loops\n",
    "count = 0\n",
    "print(\"While loop\\n\")\n",
    "while count < 5:\n",
    "    print(count)\n",
    "    count += 1\n",
    "\n",
    "#Break and Continue Statements\n",
    "count = 0\n",
    "print(\"Break and Continue Statements\\n\")\n",
    "while True:\n",
    "    print(count)\n",
    "    count += 1\n",
    "    if count >= 5:\n",
    "        break\n",
    "for x in range(10):\n",
    "    if x % 2 == 0:\n",
    "        continue\n",
    "    print(x)"
   ]
  },
  {
   "cell_type": "code",
   "execution_count": 18,
   "metadata": {},
   "outputs": [
    {
     "name": "stdout",
     "output_type": "stream",
     "text": [
      "Hello From My Function!\n",
      "Hello, Krishna Prasad, From My Function!, I wish you a great year!\n"
     ]
    }
   ],
   "source": [
    "#Functions\n",
    "\n",
    "def my_function():\n",
    "    print(\"Hello From My Function!\")\n",
    "\n",
    "def my_function_with_args(username, greeting):\n",
    "    print(\"Hello, %s, From My Function!, I wish you %s\"%(username, greeting))\n",
    "\n",
    "def sum_two_numbers(a, b):\n",
    "    return a + b\n",
    "\n",
    "my_function()\n",
    "\n",
    "my_function_with_args(\"Krishna Prasad\", \"a great year!\")\n",
    "\n",
    "x = sum_two_numbers(2,2)"
   ]
  },
  {
   "cell_type": "code",
   "execution_count": 19,
   "metadata": {},
   "outputs": [
    {
     "name": "stdout",
     "output_type": "stream",
     "text": [
      "blah\n",
      "el33t programmer\n",
      "Message inside class\n",
      "None\n",
      "10\n"
     ]
    }
   ],
   "source": [
    "#Classes and Objects\n",
    "class MyClass:\n",
    "    variable = \"blah\"\n",
    "\n",
    "    def function(self):\n",
    "        print(\"Message inside class\")\n",
    "\n",
    "myobjectx = MyClass()\n",
    "myobjecty = MyClass()\n",
    "\n",
    "myobjecty.variable = \"el33t programmer\"\n",
    "\n",
    "print(myobjectx.variable)\n",
    "print(myobjecty.variable)\n",
    "print(myobjectx.function())\n",
    "\n",
    "\n",
    "class NumberHolder:\n",
    "\n",
    "   def __init__(self, number):\n",
    "       self.number = number\n",
    "\n",
    "   def returnNumber(self):\n",
    "       return self.number\n",
    "\n",
    "var = NumberHolder(10)\n",
    "print(var.returnNumber())"
   ]
  },
  {
   "cell_type": "code",
   "execution_count": 20,
   "metadata": {},
   "outputs": [
    {
     "name": "stdout",
     "output_type": "stream",
     "text": [
      "Phone number of Person1 is 938477566\n",
      "Phone number of Person2 is 938377264\n",
      "Phone number of Person3 is 947662781\n",
      "{'Person2': 938377264, 'Person3': 947662781}\n",
      "{'Person3': 947662781}\n"
     ]
    }
   ],
   "source": [
    "#Dictionaries\n",
    "#Intialization and print values\n",
    "phonebook = {\"Person1\" : 938477566,\"Person2\" : 938377264,\"Person3\" : 947662781}\n",
    "for name, number in phonebook.items():\n",
    "    print(\"Phone number of %s is %d\" % (name, number))\n",
    "\n",
    "#delete value\n",
    "del phonebook[\"Person1\"]\n",
    "print(phonebook) \n",
    "#or\n",
    "phonebook.pop(\"Person2\")\n",
    "print(phonebook)"
   ]
  }
 ],
 "metadata": {
  "kernelspec": {
   "display_name": "ece5831-2023",
   "language": "python",
   "name": "python3"
  },
  "language_info": {
   "codemirror_mode": {
    "name": "ipython",
    "version": 3
   },
   "file_extension": ".py",
   "mimetype": "text/x-python",
   "name": "python",
   "nbconvert_exporter": "python",
   "pygments_lexer": "ipython3",
   "version": "3.8.18"
  },
  "orig_nbformat": 4
 },
 "nbformat": 4,
 "nbformat_minor": 2
}
