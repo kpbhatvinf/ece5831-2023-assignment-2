{
 "cells": [
  {
   "cell_type": "code",
   "execution_count": 2,
   "metadata": {},
   "outputs": [
    {
     "name": "stdout",
     "output_type": "stream",
     "text": [
      "Random number 29\n",
      "Random number 29\n",
      "Random number 15\n",
      "Random number 12\n",
      "Random number 32\n",
      "Random number 38\n",
      "Random number 9\n"
     ]
    }
   ],
   "source": [
    "#Generators\n",
    "import random\n",
    "\n",
    "def lottery():\n",
    "    for i in range(6):\n",
    "        yield random.randint(1, 40)\n",
    "\n",
    "    yield random.randint(1, 15)\n",
    "\n",
    "for random_number in lottery():\n",
    "       print(\"Random number %d\" %(random_number))"
   ]
  },
  {
   "cell_type": "code",
   "execution_count": 3,
   "metadata": {},
   "outputs": [
    {
     "name": "stdout",
     "output_type": "stream",
     "text": [
      "['Generic', 'example', 'sentence', 'to', 'test', 'out', 'list', 'comprehension']\n",
      "[7, 7, 8, 2, 4, 3, 4, 13]\n"
     ]
    }
   ],
   "source": [
    "#List Comprehension\n",
    "sentence = \"Generic example sentence to test out list comprehension\"\n",
    "words = sentence.split()\n",
    "word_lengths = [len(word) for word in words if word != \"the\"]\n",
    "print(words)\n",
    "print(word_lengths)"
   ]
  },
  {
   "cell_type": "code",
   "execution_count": 5,
   "metadata": {},
   "outputs": [
    {
     "name": "stdout",
     "output_type": "stream",
     "text": [
      "4\n"
     ]
    }
   ],
   "source": [
    "#Lambda function example\n",
    "a = 2\n",
    "b = 2\n",
    "sum = lambda x,y : x + y\n",
    "c = sum(a,b)\n",
    "print(c)"
   ]
  },
  {
   "cell_type": "code",
   "execution_count": 6,
   "metadata": {},
   "outputs": [
    {
     "name": "stdout",
     "output_type": "stream",
     "text": [
      "The sum is: 7\n",
      "Result: 2\n"
     ]
    }
   ],
   "source": [
    "#Multiple arguments for functions\n",
    "def test_function(first, second, third, **options):\n",
    "    if options.get(\"action\") == \"sum\":\n",
    "        print(\"The sum is: %d\" %(first + second + third))\n",
    "\n",
    "    if options.get(\"number\") == \"first\":\n",
    "        return first\n",
    "\n",
    "result = test_function(2, 2, 3, action = \"sum\", number = \"first\")\n",
    "print(\"Result: %d\" %(result))"
   ]
  },
  {
   "cell_type": "code",
   "execution_count": 8,
   "metadata": {},
   "outputs": [
    {
     "name": "stdout",
     "output_type": "stream",
     "text": [
      "['testemail@gmail.com', 'testemail2@hotmail.com']\n"
     ]
    }
   ],
   "source": [
    "#Regular Expressions '__'\n",
    "import re \n",
    "# Example email matching regular expressions\n",
    "s = \"\"\"testemail@gmail.com sent a mail to testemail2@hotmail.com\"\"\"\n",
    "lst = re.findall('\\S+@\\S+', s)     \n",
    "print(lst) "
   ]
  },
  {
   "cell_type": "code",
   "execution_count": 10,
   "metadata": {},
   "outputs": [
    {
     "name": "stdout",
     "output_type": "stream",
     "text": [
      "1\n",
      "2\n",
      "3\n",
      "4\n",
      "5\n",
      "Error\n",
      "Error\n",
      "Error\n",
      "Error\n",
      "Error\n",
      "Error\n",
      "Error\n",
      "Error\n",
      "Error\n",
      "Error\n",
      "Error\n",
      "Error\n",
      "Error\n",
      "Error\n",
      "Error\n"
     ]
    }
   ],
   "source": [
    "#Exception Handling - Try Catch\n",
    "def do_stuff_with_number(n):\n",
    "    print(n)\n",
    "\n",
    "def catch_this():\n",
    "    the_list = (1, 2, 3, 4, 5)\n",
    "\n",
    "    for i in range(20):\n",
    "        try:\n",
    "            do_stuff_with_number(the_list[i])\n",
    "        except IndexError:\n",
    "            print(\"Error\")\n",
    "\n",
    "catch_this()"
   ]
  },
  {
   "cell_type": "code",
   "execution_count": 16,
   "metadata": {},
   "outputs": [
    {
     "name": "stdout",
     "output_type": "stream",
     "text": [
      "Intersection:\n",
      "{'Val1'}\n",
      "{'Val1'}\n",
      "Symmetric Difference:\n",
      "{'Val4', 'Val2', 'Val3'}\n",
      "{'Val4', 'Val2', 'Val3'}\n",
      "Difference:\n",
      "{'Val2', 'Val3'}\n",
      "{'Val4'}\n",
      "Union:\n",
      "{'Val4', 'Val3', 'Val2', 'Val1'}\n"
     ]
    }
   ],
   "source": [
    "#Sets\n",
    "a = set([\"Val1\", \"Val2\", \"Val3\"])\n",
    "b = set([\"Val1\", \"Val4\"])\n",
    "print(\"Intersection:\")\n",
    "print(a.intersection(b))\n",
    "print(b.intersection(a))\n",
    "print(\"Symmetric Difference:\")\n",
    "print(a.symmetric_difference(b))\n",
    "print(b.symmetric_difference(a))\n",
    "print(\"Difference:\")\n",
    "print(a.difference(b))\n",
    "print(b.difference(a))\n",
    "print(\"Union:\")\n",
    "print(a.union(b))"
   ]
  },
  {
   "cell_type": "code",
   "execution_count": 17,
   "metadata": {},
   "outputs": [
    {
     "name": "stdout",
     "output_type": "stream",
     "text": [
      "[1, 2, 3, 'a', 'b', 'c']\n"
     ]
    }
   ],
   "source": [
    "#Serialization using cPickle library\n",
    "import pickle\n",
    "pickled_string = pickle.dumps([1, 2, 3, \"a\", \"b\", \"c\"])\n",
    "print(pickle.loads(pickled_string))"
   ]
  },
  {
   "cell_type": "code",
   "execution_count": 18,
   "metadata": {},
   "outputs": [
    {
     "name": "stdout",
     "output_type": "stream",
     "text": [
      "8\n"
     ]
    }
   ],
   "source": [
    "#Partial Functions\n",
    "\n",
    "from functools import partial\n",
    "\n",
    "def multiply(x, y):\n",
    "        return x * y\n",
    "dbl = partial(multiply, 2)\n",
    "print(dbl(4))"
   ]
  },
  {
   "cell_type": "code",
   "execution_count": 20,
   "metadata": {},
   "outputs": [
    {
     "name": "stdout",
     "output_type": "stream",
     "text": [
      "The nested function\n",
      "Passing an argument\n"
     ]
    }
   ],
   "source": [
    "#Nested functions\n",
    "def transmit_to_space(message):\n",
    "  \"This is the enclosing function\"\n",
    "  def data_transmitter():\n",
    "      print(\"The nested function\")\n",
    "      print(message)\n",
    "  return data_transmitter\n",
    "\n",
    "fun2 = transmit_to_space(\"Passing an argument\")\n",
    "fun2()"
   ]
  },
  {
   "cell_type": "code",
   "execution_count": 21,
   "metadata": {},
   "outputs": [
    {
     "data": {
      "text/plain": [
       "15"
      ]
     },
     "execution_count": 21,
     "metadata": {},
     "output_type": "execute_result"
    }
   ],
   "source": [
    "#Decorators\n",
    "def multiply(multiplier):\n",
    "    def multiply_generator(old_function):\n",
    "        def new_function(*args, **kwds):\n",
    "            return multiplier * old_function(*args, **kwds)\n",
    "        return new_function\n",
    "    return multiply_generator \n",
    "\n",
    "@multiply(3) \n",
    "def return_num(num):\n",
    "    return num\n",
    "\n",
    "return_num(5) "
   ]
  },
  {
   "cell_type": "code",
   "execution_count": 28,
   "metadata": {},
   "outputs": [
    {
     "name": "stdout",
     "output_type": "stream",
     "text": [
      "Map function: [8, 3, 4]\n",
      "Filter function: [3, 6, 9]\n",
      "Reduce function: 17\n"
     ]
    }
   ],
   "source": [
    "#map, filter, reduce\n",
    "#map function\n",
    "def myfunc(n):\n",
    "  return len(n)\n",
    "print(\"Map function:\",list(map(myfunc, ('generic1', 'foo', 'feie'))))\n",
    "\n",
    "#filter function\n",
    "def is_multiple_of_3(num):\n",
    "    return num % 3 == 0\n",
    "numbers = [1, 2, 3, 4, 5, 6, 7, 8, 9, 10]\n",
    "print(\"Filter function:\",list(filter(lambda x: is_multiple_of_3(x), numbers)))\n",
    "\n",
    "#reduce function\n",
    "import functools\n",
    "lis = [1, 3, 5, 6, 2]\n",
    "print(\"Reduce function:\",functools.reduce(lambda a, b: a+b, lis))\n"
   ]
  },
  {
   "cell_type": "code",
   "execution_count": null,
   "metadata": {},
   "outputs": [],
   "source": []
  }
 ],
 "metadata": {
  "kernelspec": {
   "display_name": "ece5831-2023",
   "language": "python",
   "name": "python3"
  },
  "language_info": {
   "codemirror_mode": {
    "name": "ipython",
    "version": 3
   },
   "file_extension": ".py",
   "mimetype": "text/x-python",
   "name": "python",
   "nbconvert_exporter": "python",
   "pygments_lexer": "ipython3",
   "version": "3.8.18"
  },
  "orig_nbformat": 4
 },
 "nbformat": 4,
 "nbformat_minor": 2
}
