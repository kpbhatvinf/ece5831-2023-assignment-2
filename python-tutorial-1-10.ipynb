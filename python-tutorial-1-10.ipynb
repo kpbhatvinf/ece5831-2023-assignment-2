{
 "cells": [
  {
   "cell_type": "code",
   "execution_count": 1,
   "metadata": {},
   "outputs": [
    {
     "name": "stdout",
     "output_type": "stream",
     "text": [
      "1\n",
      "2\n",
      "3\n",
      "4\n",
      "5\n",
      "6\n",
      "7\n",
      "8\n",
      "9\n",
      "['False', 'None', 'True', 'and', 'as', 'assert', 'async', 'await', 'break', 'class', 'continue', 'def', 'del', 'elif', 'else', 'except', 'finally', 'for', 'from', 'global', 'if', 'import', 'in', 'is', 'lambda', 'nonlocal', 'not', 'or', 'pass', 'raise', 'return', 'try', 'while', 'with', 'yield']\n",
      "This is a string\n",
      "Another string using double quotes\n",
      " string can span\n",
      "        multiple line \n"
     ]
    }
   ],
   "source": [
    "#Syntax\n",
    "def main():\n",
    "    i = 1\n",
    "    max = 10\n",
    "    while (i < max):\n",
    "        print(i)\n",
    "        i = i + 1\n",
    "main()\n",
    "#keyword list\n",
    "import keyword\n",
    "print(keyword.kwlist)\n",
    "#String literals\n",
    "s = 'This is a string'\n",
    "print(s)\n",
    "s = \"Another string using double quotes\"\n",
    "print(s)\n",
    "s = ''' string can span\n",
    "        multiple line '''\n",
    "print(s)"
   ]
  },
  {
   "cell_type": "code",
   "execution_count": 2,
   "metadata": {},
   "outputs": [
    {
     "name": "stdout",
     "output_type": "stream",
     "text": [
      "Hello world!\n",
      "See ya\n"
     ]
    }
   ],
   "source": [
    "#Variables\n",
    "message = 'Hello world!'\n",
    "print(message)\n",
    "message = 'See ya'\n",
    "print(message)"
   ]
  },
  {
   "cell_type": "code",
   "execution_count": 4,
   "metadata": {},
   "outputs": [
    {
     "name": "stdout",
     "output_type": "stream",
     "text": [
      "\n",
      "line1\n",
      "line2\n",
      "line3\n",
      "line4\n",
      "\n",
      "Whats up\n",
      "P\n",
      "y\n",
      "g\n",
      "n\n",
      "Py\n",
      "cython String\n"
     ]
    }
   ],
   "source": [
    "#String\n",
    "message = 'This is a string in Python'\n",
    "message = \"This is also a string\"\n",
    "#Multiline\n",
    "help_message = '''\n",
    "line1\n",
    "line2\n",
    "line3\n",
    "line4\n",
    "'''\n",
    "print(help_message)\n",
    "\n",
    "name = 'Krishna'\n",
    "message = 'Whats up'\n",
    "print(message)\n",
    "\n",
    "str = \"Python String\"\n",
    "print(str[0]) \n",
    "print(str[1])\n",
    "#Reverse\n",
    "print(str[-1])  \n",
    "print(str[-2])\n",
    "#Slice \n",
    "print(str[0:2])\n",
    "#change value\n",
    "new_str = 'c' + str[1:]\n",
    "print(new_str)"
   ]
  },
  {
   "cell_type": "code",
   "execution_count": 5,
   "metadata": {},
   "outputs": [
    {
     "name": "stdout",
     "output_type": "stream",
     "text": [
      "The net price is $2.5\n"
     ]
    }
   ],
   "source": [
    "#Type Conversion\n",
    "price = input('Enter the price ($):')\n",
    "tax = input('Enter the tax rate (%):')\n",
    "net_price = int(price) * int(tax) / 100\n",
    "print(f'The net price is ${net_price}')\n"
   ]
  },
  {
   "cell_type": "code",
   "execution_count": 7,
   "metadata": {},
   "outputs": [
    {
     "name": "stdout",
     "output_type": "stream",
     "text": [
      "True\n",
      "False\n",
      "True\n",
      "True\n"
     ]
    }
   ],
   "source": [
    "#Comparison Operators\n",
    "print(10<20)\n",
    "print(20>30)\n",
    "print(20<=20)\n",
    "print(20==20)"
   ]
  },
  {
   "cell_type": "code",
   "execution_count": 8,
   "metadata": {},
   "outputs": [
    {
     "name": "stdout",
     "output_type": "stream",
     "text": [
      "The ticket price is 20\n"
     ]
    }
   ],
   "source": [
    "#Ternary operator\n",
    "age = 23\n",
    "ticket_price = 20 if int(age) >= 18 else 5\n",
    "print(f\"The ticket price is {ticket_price}\")"
   ]
  },
  {
   "cell_type": "code",
   "execution_count": null,
   "metadata": {},
   "outputs": [],
   "source": [
    "#Sections till 10 done in first three learn python notebook series"
   ]
  }
 ],
 "metadata": {
  "kernelspec": {
   "display_name": "ece5831-2023",
   "language": "python",
   "name": "python3"
  },
  "language_info": {
   "codemirror_mode": {
    "name": "ipython",
    "version": 3
   },
   "file_extension": ".py",
   "mimetype": "text/x-python",
   "name": "python",
   "nbconvert_exporter": "python",
   "pygments_lexer": "ipython3",
   "version": "3.8.18"
  },
  "orig_nbformat": 4
 },
 "nbformat": 4,
 "nbformat_minor": 2
}
